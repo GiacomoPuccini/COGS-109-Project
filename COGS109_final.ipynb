{
 "cells": [
  {
   "cell_type": "code",
   "execution_count": 4,
   "metadata": {},
   "outputs": [],
   "source": [
    "#%%bash\n",
    "#pip install sklearn"
   ]
  },
  {
   "cell_type": "code",
   "execution_count": 7,
   "metadata": {
    "scrolled": true
   },
   "outputs": [],
   "source": [
    "import matplotlib.pyplot as plt\n",
    "from mpl_toolkits.mplot3d import Axes3D\n",
    "import numpy as np\n",
    "import pandas as pd\n",
    "from sklearn.model_selection import train_test_split\n",
    "\n",
    "%matplotlib inline\n",
    "import warnings\n",
    "warnings.filterwarnings('ignore')"
   ]
  },
  {
   "cell_type": "code",
   "execution_count": 8,
   "metadata": {},
   "outputs": [],
   "source": [
    "# load data\n",
    "education = pd.read_excel(\"Education.xls\", skiprows=4)\n",
    "employment = pd.read_excel(\"Unemployment.xls\", \\\n",
    "                           sheet_name=\"Unemployment Med HH Income\", skiprows=7)\n",
    "population = pd.read_csv(\"cc-est2017-alldata.csv\")\n",
    "electionResults = pd.read_csv(\"2016_US_County_Level_Presidential_Results.csv\")\n",
    "countyAreas = pd.read_csv('ozone-county-population.csv')"
   ]
  },
  {
   "cell_type": "markdown",
   "metadata": {},
   "source": [
    "### Clean the data"
   ]
  },
  {
   "cell_type": "code",
   "execution_count": 9,
   "metadata": {},
   "outputs": [],
   "source": [
    "### education ###\n",
    "\n",
    "education.drop(education.columns.difference([\"FIPS Code\",\\\n",
    "    \"Percent of adults completing some college or associate's degree, 2014-18\"]), 1, inplace=True)\n",
    "education.rename(columns={\"FIPS Code\": \"FIPS\", \n",
    "    \"Percent of adults completing some college or associate's degree, 2014-18\": \"Percent with degree\"}, inplace=True)\n",
    "education = education.dropna()"
   ]
  },
  {
   "cell_type": "code",
   "execution_count": 10,
   "metadata": {},
   "outputs": [],
   "source": [
    "### employment ###\n",
    "\n",
    "employment.drop(employment.columns.difference([\"FIPStxt\", \"Median_Household_Income_2018\"]), 1, inplace=True)\n",
    "employment.rename(columns={'FIPStxt': 'FIPS', \"Median_Household_Income_2018\": \"Income\"}, inplace=True)\n",
    "employment = employment.dropna()"
   ]
  },
  {
   "cell_type": "code",
   "execution_count": 11,
   "metadata": {},
   "outputs": [],
   "source": [
    "### election results ###\n",
    "\n",
    "electionResults.drop(electionResults.columns.difference([\"per_dem\", \"per_gop\", \"combined_fips\"]), \\\n",
    "                    1, inplace=True)\n",
    "electionResults['margin_R'] = 100*(electionResults['per_gop'] - electionResults['per_dem'])\n",
    "electionResults.rename(columns={'combined_fips' : 'FIPS'}, inplace=True)\n",
    "electionResults.drop(electionResults.columns[[0, 1]], 1, inplace=True)\n",
    "#electionResults"
   ]
  },
  {
   "cell_type": "code",
   "execution_count": 12,
   "metadata": {},
   "outputs": [],
   "source": [
    "### population ###\n",
    "\n",
    "population.drop(population.columns.difference([\"STATE\", \"COUNTY\", \"YEAR\", \"AGEGRP\", \"TOT_POP\"]), 1, inplace=True)\n",
    "\n",
    "#Extract total population including all age groups (encoded as 0) from the year 2016 (encoded as 9)\n",
    "population = population.loc[(population['YEAR'] == 9) & (population['AGEGRP'] == 0)]\n",
    "population['FIPS'] = population['STATE']*1000 + population['COUNTY']\n",
    "\n",
    "population.drop(population.columns[[0, 1, 2, 3]], 1, inplace=True)\n",
    "#print(population)\n",
    "#population = population.dropna()"
   ]
  },
  {
   "cell_type": "code",
   "execution_count": 13,
   "metadata": {},
   "outputs": [],
   "source": [
    "### county area ###\n",
    "\n",
    "# Function that removes commas from a string\n",
    "def remComma(string):\n",
    "    return string.replace(',', '')\n",
    "\n",
    "countyAreas.drop(countyAreas.columns[[2, 3, 4, 5]], 1, inplace=True)\n",
    "countyAreas.columns.values[2] = \"LandArea\"\n",
    "countyAreas[\"LandArea\"] = countyAreas[\"LandArea\"].apply(remComma)\n",
    "countyAreas[\"LandArea\"] = pd.to_numeric(countyAreas[\"LandArea\"])\n",
    "countyAreas['FIPS'] = countyAreas['STATE FIPS']*1000 + countyAreas['COUNTY FIPS']\n",
    "countyAreas.drop(countyAreas.columns[[0, 1]], 1, inplace=True)\n",
    "#countyDensities.drop(countyDensities.columns[[0, 1]], axis=1, inplace=True)"
   ]
  },
  {
   "cell_type": "code",
   "execution_count": 14,
   "metadata": {},
   "outputs": [],
   "source": [
    "### combine county population & area to get population density ###\n",
    "countyDensities = countyAreas.merge(population, on='FIPS')\n",
    "countyDensities[\"County Density\"] = countyDensities[\"TOT_POP\"]/countyDensities[\"LandArea\"]\n",
    "countyDensities.drop(countyDensities.columns[[0, 2]], 1, inplace=True)\n",
    "#countyDensities"
   ]
  },
  {
   "cell_type": "code",
   "execution_count": 15,
   "metadata": {},
   "outputs": [],
   "source": [
    "# drop USA information from all the data\n",
    "\n",
    "education.drop(education.head(1).index, inplace=True)\n",
    "employment.drop(employment.head(1).index, inplace=True)"
   ]
  },
  {
   "cell_type": "code",
   "execution_count": 16,
   "metadata": {},
   "outputs": [
    {
     "data": {
      "text/html": [
       "<div>\n",
       "<style scoped>\n",
       "    .dataframe tbody tr th:only-of-type {\n",
       "        vertical-align: middle;\n",
       "    }\n",
       "\n",
       "    .dataframe tbody tr th {\n",
       "        vertical-align: top;\n",
       "    }\n",
       "\n",
       "    .dataframe thead th {\n",
       "        text-align: right;\n",
       "    }\n",
       "</style>\n",
       "<table border=\"1\" class=\"dataframe\">\n",
       "  <thead>\n",
       "    <tr style=\"text-align: right;\">\n",
       "      <th></th>\n",
       "      <th>FIPS</th>\n",
       "      <th>Percent with degree</th>\n",
       "    </tr>\n",
       "  </thead>\n",
       "  <tbody>\n",
       "    <tr>\n",
       "      <th>1</th>\n",
       "      <td>1000</td>\n",
       "      <td>29.9</td>\n",
       "    </tr>\n",
       "    <tr>\n",
       "      <th>2</th>\n",
       "      <td>1001</td>\n",
       "      <td>28.4</td>\n",
       "    </tr>\n",
       "    <tr>\n",
       "      <th>3</th>\n",
       "      <td>1003</td>\n",
       "      <td>31.3</td>\n",
       "    </tr>\n",
       "    <tr>\n",
       "      <th>4</th>\n",
       "      <td>1005</td>\n",
       "      <td>25.1</td>\n",
       "    </tr>\n",
       "    <tr>\n",
       "      <th>5</th>\n",
       "      <td>1007</td>\n",
       "      <td>24.4</td>\n",
       "    </tr>\n",
       "  </tbody>\n",
       "</table>\n",
       "</div>"
      ],
      "text/plain": [
       "   FIPS  Percent with degree\n",
       "1  1000                 29.9\n",
       "2  1001                 28.4\n",
       "3  1003                 31.3\n",
       "4  1005                 25.1\n",
       "5  1007                 24.4"
      ]
     },
     "execution_count": 16,
     "metadata": {},
     "output_type": "execute_result"
    }
   ],
   "source": [
    "# examine data\n",
    "education.head()"
   ]
  },
  {
   "cell_type": "code",
   "execution_count": 17,
   "metadata": {},
   "outputs": [
    {
     "data": {
      "text/html": [
       "<div>\n",
       "<style scoped>\n",
       "    .dataframe tbody tr th:only-of-type {\n",
       "        vertical-align: middle;\n",
       "    }\n",
       "\n",
       "    .dataframe tbody tr th {\n",
       "        vertical-align: top;\n",
       "    }\n",
       "\n",
       "    .dataframe thead th {\n",
       "        text-align: right;\n",
       "    }\n",
       "</style>\n",
       "<table border=\"1\" class=\"dataframe\">\n",
       "  <thead>\n",
       "    <tr style=\"text-align: right;\">\n",
       "      <th></th>\n",
       "      <th>FIPS</th>\n",
       "      <th>Income</th>\n",
       "    </tr>\n",
       "  </thead>\n",
       "  <tbody>\n",
       "    <tr>\n",
       "      <th>1</th>\n",
       "      <td>1000</td>\n",
       "      <td>49881.0</td>\n",
       "    </tr>\n",
       "    <tr>\n",
       "      <th>2</th>\n",
       "      <td>1001</td>\n",
       "      <td>59338.0</td>\n",
       "    </tr>\n",
       "    <tr>\n",
       "      <th>3</th>\n",
       "      <td>1003</td>\n",
       "      <td>57588.0</td>\n",
       "    </tr>\n",
       "    <tr>\n",
       "      <th>4</th>\n",
       "      <td>1005</td>\n",
       "      <td>34382.0</td>\n",
       "    </tr>\n",
       "    <tr>\n",
       "      <th>5</th>\n",
       "      <td>1007</td>\n",
       "      <td>46064.0</td>\n",
       "    </tr>\n",
       "  </tbody>\n",
       "</table>\n",
       "</div>"
      ],
      "text/plain": [
       "   FIPS   Income\n",
       "1  1000  49881.0\n",
       "2  1001  59338.0\n",
       "3  1003  57588.0\n",
       "4  1005  34382.0\n",
       "5  1007  46064.0"
      ]
     },
     "execution_count": 17,
     "metadata": {},
     "output_type": "execute_result"
    }
   ],
   "source": [
    "employment.head()"
   ]
  },
  {
   "cell_type": "code",
   "execution_count": 18,
   "metadata": {},
   "outputs": [],
   "source": [
    "#print(employment)"
   ]
  },
  {
   "cell_type": "code",
   "execution_count": 19,
   "metadata": {},
   "outputs": [],
   "source": [
    "## Merge Data\n",
    "\n",
    "allData = employment.merge(education, on='FIPS')\n",
    "allData = allData.merge(countyDensities, on='FIPS')\n",
    "allData = allData.merge(electionResults, on='FIPS')"
   ]
  },
  {
   "cell_type": "code",
   "execution_count": 20,
   "metadata": {},
   "outputs": [
    {
     "data": {
      "text/html": [
       "<div>\n",
       "<style scoped>\n",
       "    .dataframe tbody tr th:only-of-type {\n",
       "        vertical-align: middle;\n",
       "    }\n",
       "\n",
       "    .dataframe tbody tr th {\n",
       "        vertical-align: top;\n",
       "    }\n",
       "\n",
       "    .dataframe thead th {\n",
       "        text-align: right;\n",
       "    }\n",
       "</style>\n",
       "<table border=\"1\" class=\"dataframe\">\n",
       "  <thead>\n",
       "    <tr style=\"text-align: right;\">\n",
       "      <th></th>\n",
       "      <th>FIPS</th>\n",
       "      <th>Income</th>\n",
       "      <th>Percent with degree</th>\n",
       "      <th>County Density</th>\n",
       "      <th>margin_R</th>\n",
       "    </tr>\n",
       "  </thead>\n",
       "  <tbody>\n",
       "    <tr>\n",
       "      <th>0</th>\n",
       "      <td>1001</td>\n",
       "      <td>59338.0</td>\n",
       "      <td>28.4</td>\n",
       "      <td>92.992349</td>\n",
       "      <td>49.478934</td>\n",
       "    </tr>\n",
       "    <tr>\n",
       "      <th>1</th>\n",
       "      <td>1003</td>\n",
       "      <td>57588.0</td>\n",
       "      <td>31.3</td>\n",
       "      <td>130.526537</td>\n",
       "      <td>57.786162</td>\n",
       "    </tr>\n",
       "    <tr>\n",
       "      <th>2</th>\n",
       "      <td>1005</td>\n",
       "      <td>34382.0</td>\n",
       "      <td>25.1</td>\n",
       "      <td>29.127245</td>\n",
       "      <td>5.611165</td>\n",
       "    </tr>\n",
       "    <tr>\n",
       "      <th>3</th>\n",
       "      <td>1007</td>\n",
       "      <td>46064.0</td>\n",
       "      <td>24.4</td>\n",
       "      <td>36.353444</td>\n",
       "      <td>55.544124</td>\n",
       "    </tr>\n",
       "    <tr>\n",
       "      <th>4</th>\n",
       "      <td>1009</td>\n",
       "      <td>50412.0</td>\n",
       "      <td>33.5</td>\n",
       "      <td>89.274415</td>\n",
       "      <td>81.381973</td>\n",
       "    </tr>\n",
       "  </tbody>\n",
       "</table>\n",
       "</div>"
      ],
      "text/plain": [
       "   FIPS   Income  Percent with degree  County Density   margin_R\n",
       "0  1001  59338.0                 28.4       92.992349  49.478934\n",
       "1  1003  57588.0                 31.3      130.526537  57.786162\n",
       "2  1005  34382.0                 25.1       29.127245   5.611165\n",
       "3  1007  46064.0                 24.4       36.353444  55.544124\n",
       "4  1009  50412.0                 33.5       89.274415  81.381973"
      ]
     },
     "execution_count": 20,
     "metadata": {},
     "output_type": "execute_result"
    }
   ],
   "source": [
    "allData.head()"
   ]
  },
  {
   "cell_type": "code",
   "execution_count": 21,
   "metadata": {},
   "outputs": [
    {
     "data": {
      "image/png": "[encoded data removed]",
      "text/plain": [
       "<Figure size 432x288 with 1 Axes>"
      ]
     },
     "metadata": {
      "needs_background": "light"
     },
     "output_type": "display_data"
    }
   ],
   "source": [
    "plt.scatter(allData[\"Income\"], allData[\"margin_R\"])\n",
    "plt.xlabel(\"Income\")\n",
    "plt.ylabel(\"margin_R\")\n",
    "plt.show()"
   ]
  },
  {
   "cell_type": "code",
   "execution_count": 22,
   "metadata": {},
   "outputs": [
    {
     "data": {
      "image/png": "[encoded data removed]",
      "text/plain": [
       "<Figure size 432x288 with 1 Axes>"
      ]
     },
     "metadata": {
      "needs_background": "light"
     },
     "output_type": "display_data"
    }
   ],
   "source": [
    "fig = plt.figure()\n",
    "ax = fig.add_subplot(111, projection='3d')\n",
    "ax.scatter(allData[\"Income\"], allData[\"Percent with degree\"], allData[\"margin_R\"])\n",
    "ax.set_xlabel(\"Income\")\n",
    "ax.set_ylabel(\"Percent with degree\")\n",
    "ax.set_zlabel(\"margin_R\")\n",
    "ax.dist = 11\n",
    "plt.show()"
   ]
  },
  {
   "cell_type": "markdown",
   "metadata": {},
   "source": [
    "## Linear Regression"
   ]
  },
  {
   "cell_type": "code",
   "execution_count": 23,
   "metadata": {},
   "outputs": [],
   "source": [
    "# set variables\n",
    "X1 = allData[\"Income\"].values\n",
    "X2 = allData[\"Percent with degree\"].values\n",
    "X3 = allData[\"County Density\"].values\n",
    "Y = allData[\"margin_R\"].values"
   ]
  },
  {
   "cell_type": "code",
   "execution_count": 24,
   "metadata": {},
   "outputs": [],
   "source": [
    "X1_train, X1_test, X2_train, X2_test, X3_train, X3_test, Y_train, Y_test = \\\n",
    "    train_test_split(X1, X2, X3, Y, test_size=0.20)"
   ]
  },
  {
   "cell_type": "code",
   "execution_count": 28,
   "metadata": {},
   "outputs": [
    {
     "name": "stdout",
     "output_type": "stream",
     "text": [
      "(2511,) (2511,) (2511,) (2511,)\n",
      "(628,) (628,) (628,) (628,)\n"
     ]
    }
   ],
   "source": [
    "print(X1_train.shape, X2_train.shape, X3_train.shape, Y_train.shape)\n",
    "print(X1_test.shape, X2_test.shape, X3_test.shape, Y_test.shape)"
   ]
  },
  {
   "cell_type": "code",
   "execution_count": 31,
   "metadata": {},
   "outputs": [
    {
     "name": "stdout",
     "output_type": "stream",
     "text": [
      "margin_R = 24.474142 + -0.000451*income + 1.031247*percent with degrees + -0.003179*county density\n"
     ]
    }
   ],
   "source": [
    "ones = np.ones(len(X1_train))\n",
    "\n",
    "A_train = np.vstack([ones, X1_train, X2_train, X3_train]).T\n",
    "\n",
    "W = np.linalg.lstsq(A_train, Y_train)[0]\n",
    "\n",
    "print(\"margin_R = %f + %f*income + %f*percent with degrees + %f*county density\"%\\\n",
    "     (W[0], W[1], W[2], W[3]))\n",
    "\n",
    "Y_train_pred = np.matmul(A_train, W)"
   ]
  },
  {
   "cell_type": "code",
   "execution_count": 33,
   "metadata": {},
   "outputs": [],
   "source": [
    "ones_test = np.ones(len(X1_test))\n",
    "\n",
    "A_test = np.vstack([ones_test, X1_test, X2_test, X3_test]).T\n",
    "\n",
    "Y_test_pred = np.matmul(A_test, W)"
   ]
  },
  {
   "cell_type": "code",
   "execution_count": 37,
   "metadata": {},
   "outputs": [
    {
     "name": "stdout",
     "output_type": "stream",
     "text": [
      "SSE of train: 2117395.067352\n",
      "SSE of test:   467830.424354\n"
     ]
    }
   ],
   "source": [
    "# SSE\n",
    "sse_train = sum((Y_train_pred - Y_train)**2)\n",
    "print(\"SSE of train: %f\"%sse_train)\n",
    "\n",
    "sse_test = sum((Y_test_pred - Y_test)**2)\n",
    "print(\"SSE of test:   %f\"%sse_test)"
   ]
  },
  {
   "cell_type": "code",
   "execution_count": 41,
   "metadata": {},
   "outputs": [
    {
     "data": {
      "image/png": "[encoded data removed]",
      "text/plain": [
       "<Figure size 432x288 with 1 Axes>"
      ]
     },
     "metadata": {
      "needs_background": "light"
     },
     "output_type": "display_data"
    }
   ],
   "source": [
    "plt.bar(['sse_train', 'sse_test'], [sse_train, sse_test])\n",
    "plt.title('SSE Train vs MSE Test')\n",
    "plt.show()"
   ]
  },
  {
   "cell_type": "code",
   "execution_count": 39,
   "metadata": {},
   "outputs": [
    {
     "name": "stdout",
     "output_type": "stream",
     "text": [
      "MSE of train: 843.247737\n",
      "MSE of test:  744.952905\n"
     ]
    }
   ],
   "source": [
    "# MSE\n",
    "mse_train = sse_train / len(X1_train)\n",
    "mse_test = sse_test / len(X1_test)\n",
    "\n",
    "print('MSE of train: %f'%mse_train)\n",
    "print('MSE of test:  %f'%mse_test)"
   ]
  },
  {
   "cell_type": "code",
   "execution_count": 40,
   "metadata": {},
   "outputs": [
    {
     "data": {
      "image/png": "[encoded data removed]",
      "text/plain": [
       "<Figure size 432x288 with 1 Axes>"
      ]
     },
     "metadata": {
      "needs_background": "light"
     },
     "output_type": "display_data"
    }
   ],
   "source": [
    "plt.bar(['mse_train', 'mse_test'], [mse_train, mse_test])\n",
    "plt.title('MSE Train vs MSE Test')\n",
    "plt.show()"
   ]
  },
  {
   "cell_type": "code",
   "execution_count": null,
   "metadata": {},
   "outputs": [],
   "source": []
  }
 ],
 "metadata": {
  "kernelspec": {
   "display_name": "Python 3",
   "language": "python",
   "name": "python3"
  },
  "language_info": {
   "codemirror_mode": {
    "name": "ipython",
    "version": 3
   },
   "file_extension": ".py",
   "mimetype": "text/x-python",
   "name": "python",
   "nbconvert_exporter": "python",
   "pygments_lexer": "ipython3",
   "version": "3.8.2"
  }
 },
 "nbformat": 4,
 "nbformat_minor": 2
}
