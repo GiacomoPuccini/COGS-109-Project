{
 "cells": [
  {
   "cell_type": "code",
   "execution_count": null,
   "metadata": {},
   "outputs": [],
   "source": [
    "#%%bash\n",
    "#pip install sklearn"
   ]
  },
  {
   "cell_type": "code",
   "execution_count": 1,
   "metadata": {
    "scrolled": true
   },
   "outputs": [],
   "source": [
    "import matplotlib.pyplot as plt\n",
    "from mpl_toolkits.mplot3d import Axes3D\n",
    "import numpy as np\n",
    "import pandas as pd\n",
    "from sklearn.model_selection import train_test_split\n",
    "\n",
    "%matplotlib inline\n",
    "import warnings\n",
    "warnings.filterwarnings('ignore')"
   ]
  },
  {
   "cell_type": "code",
   "execution_count": 2,
   "metadata": {},
   "outputs": [],
   "source": [
    "# load data\n",
    "education = pd.read_excel(\"Education.xls\", skiprows=4)\n",
    "employment = pd.read_excel(\"Unemployment.xls\", \\\n",
    "                           sheet_name=\"Unemployment Med HH Income\", skiprows=7)\n",
    "population = pd.read_csv(\"cc-est2017-alldata.csv\")\n",
    "electionResults = pd.read_csv(\"2016_US_County_Level_Presidential_Results.csv\")\n",
    "countyAreas = pd.read_csv('ozone-county-population.csv')"
   ]
  },
  {
   "cell_type": "markdown",
   "metadata": {},
   "source": [
    "### Clean the data"
   ]
  },
  {
   "cell_type": "code",
   "execution_count": 3,
   "metadata": {},
   "outputs": [],
   "source": [
    "### education ###\n",
    "\n",
    "education.drop(education.columns.difference([\"FIPS Code\",\\\n",
    "    \"Percent of adults completing some college or associate's degree, 2014-18\"]), 1, inplace=True)\n",
    "education.rename(columns={\"FIPS Code\": \"FIPS\", \n",
    "    \"Percent of adults completing some college or associate's degree, 2014-18\": \"Percent with degree\"}, inplace=True)\n",
    "education = education.dropna()"
   ]
  },
  {
   "cell_type": "code",
   "execution_count": 4,
   "metadata": {},
   "outputs": [],
   "source": [
    "### employment ###\n",
    "\n",
    "employment.drop(employment.columns.difference([\"FIPStxt\", \"Median_Household_Income_2018\"]), 1, inplace=True)\n",
    "employment.rename(columns={'FIPStxt': 'FIPS', \"Median_Household_Income_2018\": \"Income\"}, inplace=True)\n",
    "employment = employment.dropna()"
   ]
  },
  {
   "cell_type": "code",
   "execution_count": 5,
   "metadata": {},
   "outputs": [],
   "source": [
    "### election results ###\n",
    "\n",
    "electionResults.drop(electionResults.columns.difference([\"per_dem\", \"per_gop\", \"combined_fips\"]), \\\n",
    "                    1, inplace=True)\n",
    "electionResults['margin_R'] = 100*(electionResults['per_gop'] - electionResults['per_dem'])\n",
    "electionResults.rename(columns={'combined_fips' : 'FIPS'}, inplace=True)\n",
    "electionResults.drop(electionResults.columns[[0, 1]], 1, inplace=True)\n",
    "\n",
    "## Manually add Alaska data\n",
    "alaskaMargins = [24.3, -24.1, 5.4, -32.7, 29.1, 17.4, -17.4, 20.9, -3.9, -21, -18.5, 37.3, 23.7, 18.4, -3.8, 51.6, \n",
    "                 -22.9, -12.4, -27.5, 20.3, 7.8, -6.8, -25.9, 51.6, 28.8, -39.4, 42.8, -7.5, -27.3]\n",
    "\n",
    "## insert boroughs & census area margins into dataframe\n",
    "for i in range(len(alaskaMargins)):\n",
    "    electionResults.at[i, 'margin_R'] = alaskaMargins[i]"
   ]
  },
  {
   "cell_type": "code",
   "execution_count": 6,
   "metadata": {},
   "outputs": [],
   "source": [
    "### population ###\n",
    "\n",
    "population.drop(population.columns.difference([\"STATE\", \"COUNTY\", \"YEAR\", \"AGEGRP\", \"TOT_POP\"]), 1, inplace=True)\n",
    "\n",
    "#Extract total population including all age groups (encoded as 0) from the year 2016 (encoded as 9)\n",
    "population = population.loc[(population['YEAR'] == 9) & (population['AGEGRP'] == 0)]\n",
    "population['FIPS'] = population['STATE']*1000 + population['COUNTY']\n",
    "\n",
    "population.drop(population.columns[[0, 1, 2, 3]], 1, inplace=True)"
   ]
  },
  {
   "cell_type": "code",
   "execution_count": 7,
   "metadata": {},
   "outputs": [],
   "source": [
    "### county area ###\n",
    "\n",
    "# Function that removes commas from a string\n",
    "def remComma(string):\n",
    "    return string.replace(',', '')\n",
    "\n",
    "countyAreas.drop(countyAreas.columns[[2, 3, 4, 5]], 1, inplace=True)\n",
    "countyAreas.columns.values[2] = \"LandArea\"\n",
    "countyAreas[\"LandArea\"] = countyAreas[\"LandArea\"].apply(remComma)\n",
    "countyAreas[\"LandArea\"] = pd.to_numeric(countyAreas[\"LandArea\"])\n",
    "countyAreas['FIPS'] = countyAreas['STATE FIPS']*1000 + countyAreas['COUNTY FIPS']\n",
    "countyAreas.drop(countyAreas.columns[[0, 1]], 1, inplace=True)\n",
    "#countyDensities.drop(countyDensities.columns[[0, 1]], axis=1, inplace=True)"
   ]
  },
  {
   "cell_type": "code",
   "execution_count": 8,
   "metadata": {},
   "outputs": [],
   "source": [
    "### combine county population & area to get population density ###\n",
    "countyDensities = countyAreas.merge(population, on='FIPS')\n",
    "countyDensities[\"County Density\"] = countyDensities[\"TOT_POP\"]/countyDensities[\"LandArea\"]\n",
    "countyDensities.drop(countyDensities.columns[[0, 2]], 1, inplace=True)"
   ]
  },
  {
   "cell_type": "code",
   "execution_count": 9,
   "metadata": {},
   "outputs": [],
   "source": [
    "## Merge Data\n",
    "allData = employment.merge(education, on='FIPS')\n",
    "allData = allData.merge(countyDensities, on='FIPS')\n",
    "allData = allData.merge(electionResults, on='FIPS')"
   ]
  },
  {
   "cell_type": "code",
   "execution_count": 10,
   "metadata": {},
   "outputs": [
    {
     "data": {
      "text/html": [
       "<div>\n",
       "<style scoped>\n",
       "    .dataframe tbody tr th:only-of-type {\n",
       "        vertical-align: middle;\n",
       "    }\n",
       "\n",
       "    .dataframe tbody tr th {\n",
       "        vertical-align: top;\n",
       "    }\n",
       "\n",
       "    .dataframe thead th {\n",
       "        text-align: right;\n",
       "    }\n",
       "</style>\n",
       "<table border=\"1\" class=\"dataframe\">\n",
       "  <thead>\n",
       "    <tr style=\"text-align: right;\">\n",
       "      <th></th>\n",
       "      <th>FIPS</th>\n",
       "      <th>Income</th>\n",
       "      <th>Percent with degree</th>\n",
       "      <th>County Density</th>\n",
       "      <th>margin_R</th>\n",
       "    </tr>\n",
       "  </thead>\n",
       "  <tbody>\n",
       "    <tr>\n",
       "      <th>0</th>\n",
       "      <td>1001</td>\n",
       "      <td>59338.0</td>\n",
       "      <td>28.4</td>\n",
       "      <td>92.992349</td>\n",
       "      <td>49.478934</td>\n",
       "    </tr>\n",
       "    <tr>\n",
       "      <th>1</th>\n",
       "      <td>1003</td>\n",
       "      <td>57588.0</td>\n",
       "      <td>31.3</td>\n",
       "      <td>130.526537</td>\n",
       "      <td>57.786162</td>\n",
       "    </tr>\n",
       "    <tr>\n",
       "      <th>2</th>\n",
       "      <td>1005</td>\n",
       "      <td>34382.0</td>\n",
       "      <td>25.1</td>\n",
       "      <td>29.127245</td>\n",
       "      <td>5.611165</td>\n",
       "    </tr>\n",
       "    <tr>\n",
       "      <th>3</th>\n",
       "      <td>1007</td>\n",
       "      <td>46064.0</td>\n",
       "      <td>24.4</td>\n",
       "      <td>36.353444</td>\n",
       "      <td>55.544124</td>\n",
       "    </tr>\n",
       "    <tr>\n",
       "      <th>4</th>\n",
       "      <td>1009</td>\n",
       "      <td>50412.0</td>\n",
       "      <td>33.5</td>\n",
       "      <td>89.274415</td>\n",
       "      <td>81.381973</td>\n",
       "    </tr>\n",
       "  </tbody>\n",
       "</table>\n",
       "</div>"
      ],
      "text/plain": [
       "   FIPS   Income  Percent with degree  County Density   margin_R\n",
       "0  1001  59338.0                 28.4       92.992349  49.478934\n",
       "1  1003  57588.0                 31.3      130.526537  57.786162\n",
       "2  1005  34382.0                 25.1       29.127245   5.611165\n",
       "3  1007  46064.0                 24.4       36.353444  55.544124\n",
       "4  1009  50412.0                 33.5       89.274415  81.381973"
      ]
     },
     "execution_count": 10,
     "metadata": {},
     "output_type": "execute_result"
    }
   ],
   "source": [
    "## Examine start of data\n",
    "allData.head()"
   ]
  },
  {
   "cell_type": "code",
   "execution_count": 11,
   "metadata": {},
   "outputs": [
    {
     "data": {
      "text/plain": [
       "[Text(0, 0.5, 'R Margin'), Text(0.5, 0, 'County Density')]"
      ]
     },
     "execution_count": 11,
     "metadata": {},
     "output_type": "execute_result"
    },
    {
     "data": {
      "image/png": "[encoded data removed]",
      "text/plain": [
       "<Figure size 936x288 with 3 Axes>"
      ]
     },
     "metadata": {
      "needs_background": "light"
     },
     "output_type": "display_data"
    }
   ],
   "source": [
    "## Visualize and plot each predictor variable against the target variable (margin_R)\n",
    "fig, axs = plt.subplots(1, 3, figsize=(13, 4))\n",
    "\n",
    "axs[0].scatter(allData[\"Income\"], allData[\"margin_R\"])\n",
    "axs[0].set(xlabel='Income', ylabel='R Margin')\n",
    "axs[1].scatter(allData[\"Percent with degree\"], allData[\"margin_R\"])\n",
    "axs[1].set(xlabel='% with degree', ylabel='R Margin')\n",
    "axs[2].scatter(allData[\"County Density\"], allData[\"margin_R\"])\n",
    "axs[2].set(xlabel='County Density', ylabel='R Margin')"
   ]
  },
  {
   "cell_type": "code",
   "execution_count": 12,
   "metadata": {},
   "outputs": [
    {
     "data": {
      "image/png": "[encoded data removed]",
      "text/plain": [
       "<Figure size 432x288 with 1 Axes>"
      ]
     },
     "metadata": {
      "needs_background": "light"
     },
     "output_type": "display_data"
    }
   ],
   "source": [
    "## Test out a 3d plot\n",
    "fig = plt.figure()\n",
    "ax = fig.add_subplot(111, projection='3d')\n",
    "ax.scatter(allData[\"Income\"], allData[\"Percent with degree\"], allData[\"margin_R\"])\n",
    "ax.set_xlabel(\"Income\")\n",
    "ax.set_ylabel(\"Percent with degree\")\n",
    "ax.set_zlabel(\"margin_R\")\n",
    "ax.dist = 11\n",
    "plt.show()"
   ]
  },
  {
   "cell_type": "markdown",
   "metadata": {},
   "source": [
    "## Linear Regression and Subset Selection"
   ]
  },
  {
   "cell_type": "code",
   "execution_count": 13,
   "metadata": {},
   "outputs": [],
   "source": [
    "# set variables\n",
    "X1 = allData[\"Income\"].values\n",
    "X2 = allData[\"Percent with degree\"].values\n",
    "X3 = allData[\"County Density\"].values\n",
    "Y = allData[\"margin_R\"].values"
   ]
  },
  {
   "cell_type": "code",
   "execution_count": 14,
   "metadata": {},
   "outputs": [
    {
     "name": "stdout",
     "output_type": "stream",
     "text": [
      "Model 1:\n",
      "margin_R = 56.554422 + -0.000471*income\n",
      "SSE: 2860219.848682\n",
      "\n",
      "Model 2:\n",
      "margin_R = -1.894350 + 1.093055*%with degree\n",
      "SSE: 2892672.154667\n",
      "\n",
      "Model 3:\n",
      "margin_R = 32.927458 + -0.004528*county density\n",
      "SSE: 2780577.528244\n"
     ]
    }
   ],
   "source": [
    "## Test all models using 1 predictor & record SSSE\n",
    "ones = np.ones(len(X1))\n",
    "A1 = np.vstack([ones, X1]).T\n",
    "W1 = np.linalg.lstsq(A1, Y)\n",
    "print(\"Model 1:\\nmargin_R = %f + %f*income\\nSSE: %f\\n\" % (W1[0][0], W1[0][1], W1[1]))\n",
    "\n",
    "A2 = np.vstack([ones, X2]).T\n",
    "W2 = np.linalg.lstsq(A2, Y)\n",
    "print(\"Model 2:\\nmargin_R = %f + %f*%%with degree\\nSSE: %f\\n\" % (W2[0][0], W2[0][1], W2[1]))\n",
    "\n",
    "A3 = np.vstack([ones, X3]).T\n",
    "W3 = np.linalg.lstsq(A3, Y)\n",
    "print(\"Model 3:\\nmargin_R = %f + %f*county density\\nSSE: %f\" % (W3[0][0], W3[0][1], W3[1]))"
   ]
  },
  {
   "cell_type": "markdown",
   "metadata": {},
   "source": [
    "We see that model 3, which predicts Republican margin from county density has the lowest SSE. Thus, we will build two 2-variable models (2 predictors each), one with county density + income and the other with county density + %with a degree"
   ]
  },
  {
   "cell_type": "code",
   "execution_count": 15,
   "metadata": {},
   "outputs": [
    {
     "name": "stdout",
     "output_type": "stream",
     "text": [
      "Model 4:\n",
      "margin_R = 53.058474 + -0.000384*income + -0.004050*county density\n",
      "SSE: 2694033.164812\n",
      "\n",
      "Model 5:\n",
      "margin_R = 6.240108 + 0.864981*%with degree + -0.004140*county density\n",
      "SSE: 2718645.135939\n"
     ]
    }
   ],
   "source": [
    "## find best model using 2 predictors\n",
    "ones = np.ones(len(X1))\n",
    "A13 = np.vstack([ones, X1, X3]).T\n",
    "W13 = np.linalg.lstsq(A13, Y)\n",
    "print(\"Model 4:\\nmargin_R = %f + %f*income + %f*county density\\nSSE: %f\\n\" % (W13[0][0], W13[0][1], W13[0][2], W13[1]))\n",
    "\n",
    "A23 = np.vstack([ones, X2, X3]).T\n",
    "W23 = np.linalg.lstsq(A23, Y)\n",
    "print(\"Model 5:\\nmargin_R = %f + %f*%%with degree + %f*county density\\nSSE: %f\" %\n",
    "      (W23[0][0], W23[0][1], W23[0][2], W23[1]))"
   ]
  },
  {
   "cell_type": "markdown",
   "metadata": {},
   "source": [
    "We see that model 4 has the smaller SSE. Thus, income is the next best predictor of Republican margin after county density. Thus, educational attainment is the least correlated with R margin. We next find the model using all 3 predictors:"
   ]
  },
  {
   "cell_type": "code",
   "execution_count": 16,
   "metadata": {},
   "outputs": [
    {
     "name": "stdout",
     "output_type": "stream",
     "text": [
      "Model 6:\n",
      "margin_R = 24.451088 + -0.000430*income + 1.006442*%with degree + -0.003540*county density\n",
      "SSE: 2611463.278695\n"
     ]
    }
   ],
   "source": [
    "## Compute the full model\n",
    "ones = np.ones(len(X1))\n",
    "A123 = np.vstack([ones, X1, X2, X3]).T\n",
    "W123 = np.linalg.lstsq(A123, Y)\n",
    "print(\"Model 6:\\nmargin_R = %f + %f*income + %f*%%with degree + %f*county density\\nSSE: %f\" %\n",
    "      (W123[0][0], W123[0][1], W123[0][2], W123[0][3], W123[1]))"
   ]
  },
  {
   "cell_type": "markdown",
   "metadata": {},
   "source": [
    "As we can see, the linear model using all 3 predictors yields the lowest SSE out of all models. However, to balance the number of variables/overfitting with model accuracy (SSE), we use the bayesian information criterion:\n",
    "\n",
    "BIC = $n*\\ln(\\frac{SSE}{n}) + p*\\ln(n)$\n",
    "\n",
    "where n is the sample size and p is the number of predictors (variables) used.\n",
    "\n",
    "We will use the BIC to compute which of Model 3 (the best model using 1 predictor - county density), Model 4 (best model using 2 predictors - county density & income), and Model 6 (the only model using all 3 predictors) is the best. The 'best' on is the one with lowest BIC\n",
    "\n",
    "Note: the process we used to generate the best models using a given number of predictors is forward stepwise selection:\n",
    "https://gerardnico.com/data_mining/stepwise_regression"
   ]
  },
  {
   "cell_type": "code",
   "execution_count": 17,
   "metadata": {},
   "outputs": [
    {
     "name": "stdout",
     "output_type": "stream",
     "text": [
      "Model 3 BIC: 21310.905454741845\n",
      "Model 4 BIC: 21219.704252241772\n",
      "Model 6 BIC: 21130.04298175698\n"
     ]
    }
   ],
   "source": [
    "### Compute BIC\n",
    "n = len(X1) #Sample size\n",
    "\n",
    "BIC_1 = n*np.log(W3[1][0]/n) + 1*np.log(n)\n",
    "print(\"Model 3 BIC: \" + str(BIC_1))\n",
    "\n",
    "BIC_2 = n*np.log(W13[1][0]/n) + 2*np.log(n)\n",
    "print(\"Model 4 BIC: \" + str(BIC_2))\n",
    "\n",
    "BIC_3 = n*np.log(W123[1][0]/n) + 3*np.log(n)\n",
    "print(\"Model 6 BIC: \" + str(BIC_3))"
   ]
  },
  {
   "cell_type": "markdown",
   "metadata": {},
   "source": [
    "Because Model 6 (the 3-variable 'full' model) has the lowest BIC, it is the best model for our purposes.\n",
    "\n",
    "# Should we keep the analysis below?\n",
    "To refine our full model to reduce overfitting more, we've implemented cross validation on the full model:"
   ]
  },
  {
   "cell_type": "code",
   "execution_count": 18,
   "metadata": {},
   "outputs": [],
   "source": [
    "X1_train, X1_test, X2_train, X2_test, X3_train, X3_test, Y_train, Y_test = \\\n",
    "    train_test_split(X1, X2, X3, Y, test_size=0.20)"
   ]
  },
  {
   "cell_type": "code",
   "execution_count": 19,
   "metadata": {},
   "outputs": [
    {
     "name": "stdout",
     "output_type": "stream",
     "text": [
      "(2511,) (2511,) (2511,) (2511,)\n",
      "(628,) (628,) (628,) (628,)\n"
     ]
    }
   ],
   "source": [
    "print(X1_train.shape, X2_train.shape, X3_train.shape, Y_train.shape)\n",
    "print(X1_test.shape, X2_test.shape, X3_test.shape, Y_test.shape)"
   ]
  },
  {
   "cell_type": "code",
   "execution_count": 20,
   "metadata": {},
   "outputs": [
    {
     "name": "stdout",
     "output_type": "stream",
     "text": [
      "margin_R = 25.573579 + -0.000447*income + 1.001680*percent with degrees + -0.003182*county density\n"
     ]
    }
   ],
   "source": [
    "ones = np.ones(len(X1_train))\n",
    "\n",
    "A_train = np.vstack([ones, X1_train, X2_train, X3_train]).T\n",
    "\n",
    "W = np.linalg.lstsq(A_train, Y_train)[0]\n",
    "\n",
    "print(\"margin_R = %f + %f*income + %f*percent with degrees + %f*county density\"%\\\n",
    "     (W[0], W[1], W[2], W[3]))\n",
    "\n",
    "Y_train_pred = np.matmul(A_train, W)"
   ]
  },
  {
   "cell_type": "code",
   "execution_count": 21,
   "metadata": {},
   "outputs": [],
   "source": [
    "ones_test = np.ones(len(X1_test))\n",
    "\n",
    "A_test = np.vstack([ones_test, X1_test, X2_test, X3_test]).T\n",
    "\n",
    "Y_test_pred = np.matmul(A_test, W)"
   ]
  },
  {
   "cell_type": "code",
   "execution_count": 22,
   "metadata": {},
   "outputs": [
    {
     "name": "stdout",
     "output_type": "stream",
     "text": [
      "SSE of train: 2101084.358485\n",
      "SSE of test:   511854.696132\n"
     ]
    }
   ],
   "source": [
    "# SSE\n",
    "sse_train = sum((Y_train_pred - Y_train)**2)\n",
    "print(\"SSE of train: %f\"%sse_train)\n",
    "\n",
    "sse_test = sum((Y_test_pred - Y_test)**2)\n",
    "print(\"SSE of test:   %f\"%sse_test)"
   ]
  },
  {
   "cell_type": "code",
   "execution_count": 23,
   "metadata": {},
   "outputs": [
    {
     "data": {
      "image/png": "[encoded data removed]",
      "text/plain": [
       "<Figure size 432x288 with 1 Axes>"
      ]
     },
     "metadata": {
      "needs_background": "light"
     },
     "output_type": "display_data"
    }
   ],
   "source": [
    "plt.bar(['sse_train', 'sse_test'], [sse_train, sse_test])\n",
    "plt.title('SSE Train vs MSE Test')\n",
    "plt.show()"
   ]
  },
  {
   "cell_type": "code",
   "execution_count": 24,
   "metadata": {},
   "outputs": [
    {
     "name": "stdout",
     "output_type": "stream",
     "text": [
      "MSE of train: 836.752034\n",
      "MSE of test:  815.055249\n"
     ]
    }
   ],
   "source": [
    "# MSE\n",
    "mse_train = sse_train / len(X1_train)\n",
    "mse_test = sse_test / len(X1_test)\n",
    "\n",
    "print('MSE of train: %f'%mse_train)\n",
    "print('MSE of test:  %f'%mse_test)"
   ]
  },
  {
   "cell_type": "code",
   "execution_count": 25,
   "metadata": {},
   "outputs": [
    {
     "data": {
      "image/png": "[encoded data removed]",
      "text/plain": [
       "<Figure size 432x288 with 1 Axes>"
      ]
     },
     "metadata": {
      "needs_background": "light"
     },
     "output_type": "display_data"
    }
   ],
   "source": [
    "plt.bar(['mse_train', 'mse_test'], [mse_train, mse_test])\n",
    "plt.title('MSE Train vs MSE Test')\n",
    "plt.show()"
   ]
  }
 ],
 "metadata": {
  "kernelspec": {
   "display_name": "Python 3",
   "language": "python",
   "name": "python3"
  },
  "language_info": {
   "codemirror_mode": {
    "name": "ipython",
    "version": 3
   },
   "file_extension": ".py",
   "mimetype": "text/x-python",
   "name": "python",
   "nbconvert_exporter": "python",
   "pygments_lexer": "ipython3",
   "version": "3.6.7"
  }
 },
 "nbformat": 4,
 "nbformat_minor": 2
}
